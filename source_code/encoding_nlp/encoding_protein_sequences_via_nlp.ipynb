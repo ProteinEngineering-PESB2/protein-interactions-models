{
 "cells": [
  {
   "cell_type": "code",
   "execution_count": 1,
   "metadata": {},
   "outputs": [
    {
     "name": "stderr",
     "output_type": "stream",
     "text": [
      "/home/dmedina/miniconda3/envs/data_driven_library/lib/python3.9/site-packages/tqdm/auto.py:22: TqdmWarning: IProgress not found. Please update jupyter and ipywidgets. See https://ipywidgets.readthedocs.io/en/stable/user_install.html\n",
      "  from .autonotebook import tqdm as notebook_tqdm\n"
     ]
    }
   ],
   "source": [
    "from nlp_via_pretrained_models import using_bioembedding\n",
    "import pandas as pd\n",
    "\n",
    "df_data = pd.read_csv(\"../unique_seq/unique_sequences.csv\")"
   ]
  },
  {
   "cell_type": "code",
   "execution_count": 2,
   "metadata": {},
   "outputs": [],
   "source": [
    "using_bioembedding_instance = using_bioembedding(\n",
    "    dataset=df_data,\n",
    "    id_seq='name',\n",
    "    column_seq='sequence',\n",
    "    is_reduced=True,\n",
    "    device = 'cuda'\n",
    ")"
   ]
  },
  {
   "cell_type": "code",
   "execution_count": 3,
   "metadata": {},
   "outputs": [
    {
     "name": "stderr",
     "output_type": "stream",
     "text": [
      "Reducing embeddings: 4104it [06:04, 11.25it/s]\n"
     ]
    },
    {
     "ename": "KeyboardInterrupt",
     "evalue": "",
     "output_type": "error",
     "traceback": [
      "\u001b[0;31m---------------------------------------------------------------------------\u001b[0m",
      "\u001b[0;31mKeyboardInterrupt\u001b[0m                         Traceback (most recent call last)",
      "Cell \u001b[0;32mIn[3], line 2\u001b[0m\n\u001b[1;32m      1\u001b[0m \u001b[39m#apply bepler\u001b[39;00m\n\u001b[0;32m----> 2\u001b[0m using_bioembedding_instance\u001b[39m.\u001b[39;49mapply_bepler()\n",
      "File \u001b[0;32m~/Desktop/projects/gcn_ppi_project/source_code/nlp_via_pretrained_models.py:60\u001b[0m, in \u001b[0;36musing_bioembedding.apply_bepler\u001b[0;34m(self)\u001b[0m\n\u001b[1;32m     56\u001b[0m \u001b[39mself\u001b[39m\u001b[39m.\u001b[39membeddings \u001b[39m=\u001b[39m \u001b[39mself\u001b[39m\u001b[39m.\u001b[39membedder\u001b[39m.\u001b[39membed_many(\n\u001b[1;32m     57\u001b[0m     \u001b[39mself\u001b[39m\u001b[39m.\u001b[39mdataset[\u001b[39mself\u001b[39m\u001b[39m.\u001b[39mcolumn_seq]\u001b[39m.\u001b[39mto_list())\n\u001b[1;32m     59\u001b[0m \u001b[39mif\u001b[39;00m \u001b[39mself\u001b[39m\u001b[39m.\u001b[39mis_reduced \u001b[39m==\u001b[39m \u001b[39mTrue\u001b[39;00m:\n\u001b[0;32m---> 60\u001b[0m     \u001b[39mself\u001b[39;49m\u001b[39m.\u001b[39;49m__reducing()\n",
      "File \u001b[0;32m~/Desktop/projects/gcn_ppi_project/source_code/nlp_via_pretrained_models.py:47\u001b[0m, in \u001b[0;36musing_bioembedding.__reducing\u001b[0;34m(self)\u001b[0m\n\u001b[1;32m     45\u001b[0m \u001b[39mdef\u001b[39;00m \u001b[39m__reducing\u001b[39m(\u001b[39mself\u001b[39m):\n\u001b[1;32m     46\u001b[0m     \u001b[39mself\u001b[39m\u001b[39m.\u001b[39mnp_data \u001b[39m=\u001b[39m np\u001b[39m.\u001b[39mzeros(shape\u001b[39m=\u001b[39m(\u001b[39mlen\u001b[39m(\u001b[39mself\u001b[39m\u001b[39m.\u001b[39mdataset), \u001b[39mself\u001b[39m\u001b[39m.\u001b[39membedder\u001b[39m.\u001b[39membedding_dimension))\n\u001b[0;32m---> 47\u001b[0m     \u001b[39mfor\u001b[39;00m idx, embed \u001b[39min\u001b[39;00m tqdm(\u001b[39menumerate\u001b[39m(\u001b[39mself\u001b[39m\u001b[39m.\u001b[39membeddings), desc\u001b[39m=\u001b[39m\u001b[39m\"\u001b[39m\u001b[39mReducing embeddings\u001b[39m\u001b[39m\"\u001b[39m):\n\u001b[1;32m     48\u001b[0m         \u001b[39mself\u001b[39m\u001b[39m.\u001b[39mnp_data[idx] \u001b[39m=\u001b[39m \u001b[39mself\u001b[39m\u001b[39m.\u001b[39membedder\u001b[39m.\u001b[39mreduce_per_protein(embed)\n",
      "File \u001b[0;32m~/miniconda3/envs/data_driven_library/lib/python3.9/site-packages/tqdm/std.py:1195\u001b[0m, in \u001b[0;36mtqdm.__iter__\u001b[0;34m(self)\u001b[0m\n\u001b[1;32m   1192\u001b[0m time \u001b[39m=\u001b[39m \u001b[39mself\u001b[39m\u001b[39m.\u001b[39m_time\n\u001b[1;32m   1194\u001b[0m \u001b[39mtry\u001b[39;00m:\n\u001b[0;32m-> 1195\u001b[0m     \u001b[39mfor\u001b[39;00m obj \u001b[39min\u001b[39;00m iterable:\n\u001b[1;32m   1196\u001b[0m         \u001b[39myield\u001b[39;00m obj\n\u001b[1;32m   1197\u001b[0m         \u001b[39m# Update and possibly print the progressbar.\u001b[39;00m\n\u001b[1;32m   1198\u001b[0m         \u001b[39m# Note: does not call self.update(1) for speed optimisation.\u001b[39;00m\n",
      "File \u001b[0;32m~/miniconda3/envs/data_driven_library/lib/python3.9/site-packages/bio_embeddings/embed/embedder_interfaces.py:122\u001b[0m, in \u001b[0;36mEmbedderInterface.embed_many\u001b[0;34m(self, sequences, batch_size)\u001b[0m\n\u001b[1;32m    120\u001b[0m \u001b[39melse\u001b[39;00m:\n\u001b[1;32m    121\u001b[0m     \u001b[39mfor\u001b[39;00m seq \u001b[39min\u001b[39;00m sequences:\n\u001b[0;32m--> 122\u001b[0m         \u001b[39myield\u001b[39;00m \u001b[39mself\u001b[39;49m\u001b[39m.\u001b[39;49membed(seq)\n",
      "File \u001b[0;32m~/miniconda3/envs/data_driven_library/lib/python3.9/site-packages/bio_embeddings/embed/bepler_embedder.py:140\u001b[0m, in \u001b[0;36mBeplerEmbedder.embed\u001b[0;34m(self, sequence)\u001b[0m\n\u001b[1;32m    138\u001b[0m x_onehot\u001b[39m.\u001b[39mscatter_(\u001b[39m2\u001b[39m, x\u001b[39m.\u001b[39munsqueeze(\u001b[39m2\u001b[39m), \u001b[39m1\u001b[39m)\n\u001b[1;32m    139\u001b[0m zs\u001b[39m.\u001b[39mappend(x_onehot)\n\u001b[0;32m--> 140\u001b[0m h \u001b[39m=\u001b[39m \u001b[39mself\u001b[39;49m\u001b[39m.\u001b[39;49mmodel\u001b[39m.\u001b[39;49membedding\u001b[39m.\u001b[39;49membed(x)\n\u001b[1;32m    141\u001b[0m \u001b[39mfor\u001b[39;00m lstm \u001b[39min\u001b[39;00m \u001b[39mself\u001b[39m\u001b[39m.\u001b[39mlstm_stack:\n\u001b[1;32m    142\u001b[0m     h, _ \u001b[39m=\u001b[39m lstm(h)\n",
      "File \u001b[0;32m~/miniconda3/envs/data_driven_library/lib/python3.9/site-packages/torch/nn/modules/module.py:1051\u001b[0m, in \u001b[0;36mModule._call_impl\u001b[0;34m(self, *input, **kwargs)\u001b[0m\n\u001b[1;32m   1047\u001b[0m \u001b[39m# If we don't have any hooks, we want to skip the rest of the logic in\u001b[39;00m\n\u001b[1;32m   1048\u001b[0m \u001b[39m# this function, and just call forward.\u001b[39;00m\n\u001b[1;32m   1049\u001b[0m \u001b[39mif\u001b[39;00m \u001b[39mnot\u001b[39;00m (\u001b[39mself\u001b[39m\u001b[39m.\u001b[39m_backward_hooks \u001b[39mor\u001b[39;00m \u001b[39mself\u001b[39m\u001b[39m.\u001b[39m_forward_hooks \u001b[39mor\u001b[39;00m \u001b[39mself\u001b[39m\u001b[39m.\u001b[39m_forward_pre_hooks \u001b[39mor\u001b[39;00m _global_backward_hooks\n\u001b[1;32m   1050\u001b[0m         \u001b[39mor\u001b[39;00m _global_forward_hooks \u001b[39mor\u001b[39;00m _global_forward_pre_hooks):\n\u001b[0;32m-> 1051\u001b[0m     \u001b[39mreturn\u001b[39;00m forward_call(\u001b[39m*\u001b[39;49m\u001b[39minput\u001b[39;49m, \u001b[39m*\u001b[39;49m\u001b[39m*\u001b[39;49mkwargs)\n\u001b[1;32m   1052\u001b[0m \u001b[39m# Do not call functions when jit is used\u001b[39;00m\n\u001b[1;32m   1053\u001b[0m full_backward_hooks, non_full_backward_hooks \u001b[39m=\u001b[39m [], []\n",
      "File \u001b[0;32m~/miniconda3/envs/data_driven_library/lib/python3.9/site-packages/bepler/models/embedding.py:25\u001b[0m, in \u001b[0;36mLMEmbed.forward\u001b[0;34m(self, x)\u001b[0m\n\u001b[1;32m     23\u001b[0m \u001b[39mdef\u001b[39;00m \u001b[39mforward\u001b[39m(\u001b[39mself\u001b[39m, x):\n\u001b[1;32m     24\u001b[0m     packed \u001b[39m=\u001b[39m \u001b[39mtype\u001b[39m(x) \u001b[39mis\u001b[39;00m PackedSequence\n\u001b[0;32m---> 25\u001b[0m     h_lm \u001b[39m=\u001b[39m \u001b[39mself\u001b[39;49m\u001b[39m.\u001b[39;49mlm\u001b[39m.\u001b[39;49mencode(x)\n\u001b[1;32m     27\u001b[0m     \u001b[39m# embed and unpack if packed\u001b[39;00m\n\u001b[1;32m     28\u001b[0m     \u001b[39mif\u001b[39;00m packed:\n",
      "File \u001b[0;32m~/miniconda3/envs/data_driven_library/lib/python3.9/site-packages/bepler/models/sequence.py:128\u001b[0m, in \u001b[0;36mBiLM.encode\u001b[0;34m(self, x)\u001b[0m\n\u001b[1;32m    124\u001b[0m \u001b[39m# sequences x are flanked by the start/stop token as:\u001b[39;00m\n\u001b[1;32m    125\u001b[0m \u001b[39m# [stop, x, stop]\u001b[39;00m\n\u001b[1;32m    127\u001b[0m z \u001b[39m=\u001b[39m \u001b[39mself\u001b[39m\u001b[39m.\u001b[39membed(x)\n\u001b[0;32m--> 128\u001b[0m hidden \u001b[39m=\u001b[39m \u001b[39mself\u001b[39;49m\u001b[39m.\u001b[39;49mtransform(z)\n\u001b[1;32m    130\u001b[0m concat \u001b[39m=\u001b[39m []\n\u001b[1;32m    131\u001b[0m \u001b[39mfor\u001b[39;00m h_fwd,h_rvs \u001b[39min\u001b[39;00m hidden:\n",
      "File \u001b[0;32m~/miniconda3/envs/data_driven_library/lib/python3.9/site-packages/bepler/models/sequence.py:96\u001b[0m, in \u001b[0;36mBiLM.transform\u001b[0;34m(self, z, last_only)\u001b[0m\n\u001b[1;32m     94\u001b[0m h_fwd,_  \u001b[39m=\u001b[39m rnn(h_fwd)\n\u001b[1;32m     95\u001b[0m h_fwd \u001b[39m=\u001b[39m \u001b[39mself\u001b[39m\u001b[39m.\u001b[39mdropout(h_fwd)\n\u001b[0;32m---> 96\u001b[0m h_rvs,_ \u001b[39m=\u001b[39m rnn(h_rvs)\n\u001b[1;32m     97\u001b[0m h_rvs \u001b[39m=\u001b[39m \u001b[39mself\u001b[39m\u001b[39m.\u001b[39mdropout(h_rvs)\n\u001b[1;32m     98\u001b[0m hidden\u001b[39m.\u001b[39mappend((h_fwd, h_rvs\u001b[39m.\u001b[39mindex_select(\u001b[39m1\u001b[39m, idx)))\n",
      "File \u001b[0;32m~/miniconda3/envs/data_driven_library/lib/python3.9/site-packages/torch/nn/modules/module.py:1051\u001b[0m, in \u001b[0;36mModule._call_impl\u001b[0;34m(self, *input, **kwargs)\u001b[0m\n\u001b[1;32m   1047\u001b[0m \u001b[39m# If we don't have any hooks, we want to skip the rest of the logic in\u001b[39;00m\n\u001b[1;32m   1048\u001b[0m \u001b[39m# this function, and just call forward.\u001b[39;00m\n\u001b[1;32m   1049\u001b[0m \u001b[39mif\u001b[39;00m \u001b[39mnot\u001b[39;00m (\u001b[39mself\u001b[39m\u001b[39m.\u001b[39m_backward_hooks \u001b[39mor\u001b[39;00m \u001b[39mself\u001b[39m\u001b[39m.\u001b[39m_forward_hooks \u001b[39mor\u001b[39;00m \u001b[39mself\u001b[39m\u001b[39m.\u001b[39m_forward_pre_hooks \u001b[39mor\u001b[39;00m _global_backward_hooks\n\u001b[1;32m   1050\u001b[0m         \u001b[39mor\u001b[39;00m _global_forward_hooks \u001b[39mor\u001b[39;00m _global_forward_pre_hooks):\n\u001b[0;32m-> 1051\u001b[0m     \u001b[39mreturn\u001b[39;00m forward_call(\u001b[39m*\u001b[39;49m\u001b[39minput\u001b[39;49m, \u001b[39m*\u001b[39;49m\u001b[39m*\u001b[39;49mkwargs)\n\u001b[1;32m   1052\u001b[0m \u001b[39m# Do not call functions when jit is used\u001b[39;00m\n\u001b[1;32m   1053\u001b[0m full_backward_hooks, non_full_backward_hooks \u001b[39m=\u001b[39m [], []\n",
      "File \u001b[0;32m~/miniconda3/envs/data_driven_library/lib/python3.9/site-packages/torch/nn/modules/rnn.py:679\u001b[0m, in \u001b[0;36mLSTM.forward\u001b[0;34m(self, input, hx)\u001b[0m\n\u001b[1;32m    677\u001b[0m \u001b[39mself\u001b[39m\u001b[39m.\u001b[39mcheck_forward_args(\u001b[39minput\u001b[39m, hx, batch_sizes)\n\u001b[1;32m    678\u001b[0m \u001b[39mif\u001b[39;00m batch_sizes \u001b[39mis\u001b[39;00m \u001b[39mNone\u001b[39;00m:\n\u001b[0;32m--> 679\u001b[0m     result \u001b[39m=\u001b[39m _VF\u001b[39m.\u001b[39;49mlstm(\u001b[39minput\u001b[39;49m, hx, \u001b[39mself\u001b[39;49m\u001b[39m.\u001b[39;49m_flat_weights, \u001b[39mself\u001b[39;49m\u001b[39m.\u001b[39;49mbias, \u001b[39mself\u001b[39;49m\u001b[39m.\u001b[39;49mnum_layers,\n\u001b[1;32m    680\u001b[0m                       \u001b[39mself\u001b[39;49m\u001b[39m.\u001b[39;49mdropout, \u001b[39mself\u001b[39;49m\u001b[39m.\u001b[39;49mtraining, \u001b[39mself\u001b[39;49m\u001b[39m.\u001b[39;49mbidirectional, \u001b[39mself\u001b[39;49m\u001b[39m.\u001b[39;49mbatch_first)\n\u001b[1;32m    681\u001b[0m \u001b[39melse\u001b[39;00m:\n\u001b[1;32m    682\u001b[0m     result \u001b[39m=\u001b[39m _VF\u001b[39m.\u001b[39mlstm(\u001b[39minput\u001b[39m, batch_sizes, hx, \u001b[39mself\u001b[39m\u001b[39m.\u001b[39m_flat_weights, \u001b[39mself\u001b[39m\u001b[39m.\u001b[39mbias,\n\u001b[1;32m    683\u001b[0m                       \u001b[39mself\u001b[39m\u001b[39m.\u001b[39mnum_layers, \u001b[39mself\u001b[39m\u001b[39m.\u001b[39mdropout, \u001b[39mself\u001b[39m\u001b[39m.\u001b[39mtraining, \u001b[39mself\u001b[39m\u001b[39m.\u001b[39mbidirectional)\n",
      "\u001b[0;31mKeyboardInterrupt\u001b[0m: "
     ]
    }
   ],
   "source": [
    "#apply bepler\n",
    "using_bioembedding_instance.apply_bepler()\n"
   ]
  },
  {
   "cell_type": "code",
   "execution_count": 7,
   "metadata": {},
   "outputs": [],
   "source": [
    "header = [\"p_{}\".format(i) for i in range(len(using_bioembedding_instance.np_data[0]))]\n",
    "df_data_encode = pd.DataFrame(using_bioembedding_instance.np_data, columns=header)\n",
    "df_data_encode['id'] = df_data['id']\n",
    "df_data_encode.to_csv(\"../nlp_encoding/bepler/dataset_encoding.csv\", index=False)\n"
   ]
  },
  {
   "cell_type": "code",
   "execution_count": 8,
   "metadata": {},
   "outputs": [
    {
     "name": "stderr",
     "output_type": "stream",
     "text": [
      "Reducing embeddings: 2985it [06:52,  7.24it/s]\n"
     ]
    }
   ],
   "source": [
    "#apply esm\n",
    "using_bioembedding_instance.apply_esm1b()\n"
   ]
  },
  {
   "cell_type": "code",
   "execution_count": 9,
   "metadata": {},
   "outputs": [],
   "source": [
    "header = [\"p_{}\".format(i) for i in range(len(using_bioembedding_instance.np_data[0]))]\n",
    "df_data_encode = pd.DataFrame(using_bioembedding_instance.np_data, columns=header)\n",
    "df_data_encode['id'] = df_data['id']\n",
    "df_data_encode.to_csv(\"../nlp_encoding/esm1b/dataset_encoding.csv\", index=False)"
   ]
  },
  {
   "cell_type": "code",
   "execution_count": 10,
   "metadata": {},
   "outputs": [
    {
     "name": "stderr",
     "output_type": "stream",
     "text": [
      "Reducing embeddings: 2985it [06:36,  7.53it/s]\n"
     ]
    }
   ],
   "source": [
    "#apply esm\n",
    "using_bioembedding_instance.apply_esme()"
   ]
  },
  {
   "cell_type": "code",
   "execution_count": 11,
   "metadata": {},
   "outputs": [],
   "source": [
    "header = [\"p_{}\".format(i) for i in range(len(using_bioembedding_instance.np_data[0]))]\n",
    "df_data_encode = pd.DataFrame(using_bioembedding_instance.np_data, columns=header)\n",
    "df_data_encode['id'] = df_data['id']\n",
    "df_data_encode.to_csv(\"../nlp_encoding/esme/dataset_encoding.csv\", index=False)"
   ]
  },
  {
   "cell_type": "code",
   "execution_count": 12,
   "metadata": {},
   "outputs": [
    {
     "name": "stderr",
     "output_type": "stream",
     "text": [
      "Reducing embeddings: 2985it [00:02, 1007.05it/s]\n"
     ]
    }
   ],
   "source": [
    "#apply fasttext\n",
    "using_bioembedding_instance.apply_fasttext()"
   ]
  },
  {
   "cell_type": "code",
   "execution_count": 13,
   "metadata": {},
   "outputs": [],
   "source": [
    "header = [\"p_{}\".format(i) for i in range(len(using_bioembedding_instance.np_data[0]))]\n",
    "df_data_encode = pd.DataFrame(using_bioembedding_instance.np_data, columns=header)\n",
    "df_data_encode['id'] = df_data['id']\n",
    "df_data_encode.to_csv(\"../nlp_encoding/fasttext/dataset_encoding.csv\", index=False)"
   ]
  },
  {
   "cell_type": "code",
   "execution_count": 14,
   "metadata": {},
   "outputs": [
    {
     "name": "stderr",
     "output_type": "stream",
     "text": [
      "Reducing embeddings: 2985it [00:01, 1905.93it/s]\n"
     ]
    }
   ],
   "source": [
    "#apply one hot\n",
    "using_bioembedding_instance.apply_onehot()\n"
   ]
  },
  {
   "cell_type": "code",
   "execution_count": 15,
   "metadata": {},
   "outputs": [],
   "source": [
    "header = [\"p_{}\".format(i) for i in range(len(using_bioembedding_instance.np_data[0]))]\n",
    "df_data_encode = pd.DataFrame(using_bioembedding_instance.np_data, columns=header)\n",
    "df_data_encode['id'] = df_data['id']\n",
    "df_data_encode.to_csv(\"../nlp_encoding/onehot/dataset_encoding.csv\", index=False)"
   ]
  },
  {
   "cell_type": "code",
   "execution_count": 16,
   "metadata": {},
   "outputs": [
    {
     "name": "stderr",
     "output_type": "stream",
     "text": [
      "Reducing embeddings: 2985it [00:02, 1126.39it/s]\n"
     ]
    }
   ],
   "source": [
    "#apply glove\n",
    "using_bioembedding_instance.apply_glove()"
   ]
  },
  {
   "cell_type": "code",
   "execution_count": 17,
   "metadata": {},
   "outputs": [],
   "source": [
    "header = [\"p_{}\".format(i) for i in range(len(using_bioembedding_instance.np_data[0]))]\n",
    "df_data_encode = pd.DataFrame(using_bioembedding_instance.np_data, columns=header)\n",
    "df_data_encode['id'] = df_data['id']\n",
    "df_data_encode.to_csv(\"../nlp_encoding/glove/dataset_encoding.csv\", index=False)"
   ]
  },
  {
   "cell_type": "code",
   "execution_count": 18,
   "metadata": {},
   "outputs": [
    {
     "name": "stderr",
     "output_type": "stream",
     "text": [
      "Reducing embeddings: 2985it [01:29, 33.28it/s]\n"
     ]
    }
   ],
   "source": [
    "#apply glove\n",
    "using_bioembedding_instance.apply_plus_rnn()"
   ]
  },
  {
   "cell_type": "code",
   "execution_count": 19,
   "metadata": {},
   "outputs": [],
   "source": [
    "header = [\"p_{}\".format(i) for i in range(len(using_bioembedding_instance.np_data[0]))]\n",
    "df_data_encode = pd.DataFrame(using_bioembedding_instance.np_data, columns=header)\n",
    "df_data_encode['id'] = df_data['id']\n",
    "df_data_encode.to_csv(\"../nlp_encoding/plusrnn/dataset_encoding.csv\", index=False)"
   ]
  }
 ],
 "metadata": {
  "kernelspec": {
   "display_name": "data_driven_library",
   "language": "python",
   "name": "python3"
  },
  "language_info": {
   "codemirror_mode": {
    "name": "ipython",
    "version": 3
   },
   "file_extension": ".py",
   "mimetype": "text/x-python",
   "name": "python",
   "nbconvert_exporter": "python",
   "pygments_lexer": "ipython3",
   "version": "3.9.16"
  },
  "orig_nbformat": 4,
  "vscode": {
   "interpreter": {
    "hash": "719ac6498791fc2cdf3fdd830342d329111fbbe3a5d8330fcacca33925f1200b"
   }
  }
 },
 "nbformat": 4,
 "nbformat_minor": 2
}
